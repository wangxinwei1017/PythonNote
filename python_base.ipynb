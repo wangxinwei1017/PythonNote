{
 "cells": [
  {
   "cell_type": "markdown",
   "metadata": {},
   "source": [
    "#### 引号和转义字符"
   ]
  },
  {
   "cell_type": "code",
   "execution_count": 20,
   "metadata": {
    "collapsed": false
   },
   "outputs": [
    {
     "name": "stdout",
     "output_type": "stream",
     "text": [
      "hello\n",
      "'hello'\n",
      " \"'print'\" \n",
      "\"print\"\n",
      "\"\"\"print\"\"\"\n"
     ]
    }
   ],
   "source": [
    "print('hello')\n",
    "print(\"'hello'\")\n",
    "print(\"\"\" \"'print'\" \"\"\")\n",
    "print('\"print\"')\n",
    "print('\"\"\"print\"\"\"')"
   ]
  },
  {
   "cell_type": "code",
   "execution_count": 21,
   "metadata": {
    "collapsed": false
   },
   "outputs": [
    {
     "name": "stdout",
     "output_type": "stream",
     "text": [
      " \"\"\" hello \n",
      "'dont't\n"
     ]
    }
   ],
   "source": [
    "print(' \"\"\" '\"\"\"hello\"\"\"' ')\n",
    "print('\\'dont\\'t')"
   ]
  },
  {
   "cell_type": "code",
   "execution_count": 22,
   "metadata": {
    "collapsed": false
   },
   "outputs": [
    {
     "name": "stdout",
     "output_type": "stream",
     "text": [
      "hello       \n",
      "1\n",
      "2\n",
      "3\n"
     ]
    }
   ],
   "source": [
    "#\"\"\"可以用来输出多行文本\"\"\"\n",
    "print('hello \\\n",
    "      ')\n",
    "\n",
    "print(\"\"\"1\n",
    "2\n",
    "3\"\"\")"
   ]
  },
  {
   "cell_type": "code",
   "execution_count": 24,
   "metadata": {
    "collapsed": false
   },
   "outputs": [
    {
     "name": "stdout",
     "output_type": "stream",
     "text": [
      "('hello', 'world')\n"
     ]
    }
   ],
   "source": [
    "#print可以输出连接字符,notebook和实际输出不同，cpython编译器输出hello world\n",
    "print(\"hello\",\"world\") "
   ]
  },
  {
   "cell_type": "code",
   "execution_count": 50,
   "metadata": {
    "collapsed": false
   },
   "outputs": [
    {
     "name": "stdout",
     "output_type": "stream",
     "text": [
      "join is boy\n",
      "join %sa\n",
      "join \\%sa\n"
     ]
    }
   ],
   "source": [
    "print(\"join %s%s\"%(\"is\",\" boy\")) \n",
    "print(\"join %%s%s\"%(\"a\"))  #如果想输出%s,则可以使用%%s\n",
    "print(\"join \\%%s%s\"%(\"a\")) #转意字符在这里无效"
   ]
  },
  {
   "cell_type": "code",
   "execution_count": 41,
   "metadata": {
    "collapsed": false
   },
   "outputs": [
    {
     "name": "stdout",
     "output_type": "stream",
     "text": [
      "join   is  boy\n",
      "  1.24\n"
     ]
    }
   ],
   "source": [
    "# %5s表示输出有5个字符，如果没有那么在前面用空格填充\n",
    "# 注意s要用小写\n",
    "print(\"join%5s%5s\"%(\"is\",\"boy\")) \n",
    "print('%6.2f'%1.235)   #长度为6，精确到小数点后两位"
   ]
  },
  {
   "cell_type": "markdown",
   "metadata": {},
   "source": [
    "### python数值\n",
    "\n",
    "\n",
    "\n",
    "python中有三种数值类型\n",
    "- 整形\n",
    "- 浮点型\n",
    "- 虚数"
   ]
  },
  {
   "cell_type": "code",
   "execution_count": 51,
   "metadata": {
    "collapsed": false
   },
   "outputs": [
    {
     "name": "stdout",
     "output_type": "stream",
     "text": [
      "<type 'int'>\n",
      "<type 'float'>\n",
      "<type 'complex'>\n"
     ]
    }
   ],
   "source": [
    "print(type(1))\n",
    "print(type(1.))\n",
    "print(type(1+2j))"
   ]
  },
  {
   "cell_type": "code",
   "execution_count": 56,
   "metadata": {
    "collapsed": false
   },
   "outputs": [
    {
     "data": {
      "text/plain": [
       "inf"
      ]
     },
     "execution_count": 56,
     "metadata": {},
     "output_type": "execute_result"
    }
   ],
   "source": [
    "#当一个数达到python无法处理的时候，会返回inf\n",
    "2e2222222222222222222222222203*111111111111111111111111111111111111111111111111111111111111111111111111111111"
   ]
  },
  {
   "cell_type": "code",
   "execution_count": 64,
   "metadata": {
    "collapsed": false
   },
   "outputs": [
    {
     "name": "stdout",
     "output_type": "stream",
     "text": [
      "1.0\n",
      "2.0\n",
      "0\n",
      "0.4\n",
      "1\n",
      "2\n"
     ]
    }
   ],
   "source": [
    "print(1*1.)\n",
    "print(1+1.)\n",
    "print(2/5)\n",
    "print(2/5.)   #注意python中两个整形除非返回整形，会舍去小数点\n",
    "print(5/3)\n",
    "print(5%3)"
   ]
  },
  {
   "cell_type": "code",
   "execution_count": 71,
   "metadata": {
    "collapsed": false
   },
   "outputs": [
    {
     "name": "stdout",
     "output_type": "stream",
     "text": [
      "1.66666666667\n",
      "2\n",
      "1.67\n",
      "2\n",
      "1.778\n"
     ]
    }
   ],
   "source": [
    "print(5./3)\n",
    "print(\"%.f\"%(5./3))   \n",
    "print(\"%.2f\"%(5./3))  #保留后两位,注意python会在截断时四舍五入\n",
    "print(\"%0.f\"%(5./3))\n",
    "print(\"%0.3f\"%1.7777)  "
   ]
  },
  {
   "cell_type": "code",
   "execution_count": 75,
   "metadata": {
    "collapsed": false
   },
   "outputs": [
    {
     "name": "stdout",
     "output_type": "stream",
     "text": [
      "a\n",
      "A\n",
      "12\n"
     ]
    },
    {
     "ename": "ValueError",
     "evalue": "unsupported format character 'O' (0x4f) at index 1",
     "output_type": "error",
     "traceback": [
      "\u001b[0;31m---------------------------------------------------------------------------\u001b[0m",
      "\u001b[0;31mValueError\u001b[0m                                Traceback (most recent call last)",
      "\u001b[0;32m<ipython-input-75-28f8a9bb0579>\u001b[0m in \u001b[0;36m<module>\u001b[0;34m()\u001b[0m\n\u001b[1;32m      3\u001b[0m \u001b[1;32mprint\u001b[0m\u001b[1;33m(\u001b[0m\u001b[1;34m\"%X\"\u001b[0m\u001b[1;33m%\u001b[0m\u001b[1;36m10\u001b[0m\u001b[1;33m)\u001b[0m\u001b[1;33m\u001b[0m\u001b[0m\n\u001b[1;32m      4\u001b[0m \u001b[1;32mprint\u001b[0m\u001b[1;33m(\u001b[0m\u001b[1;34m\"%o\"\u001b[0m\u001b[1;33m%\u001b[0m\u001b[1;36m10\u001b[0m\u001b[1;33m)\u001b[0m\u001b[1;33m\u001b[0m\u001b[0m\n\u001b[0;32m----> 5\u001b[0;31m \u001b[1;32mprint\u001b[0m\u001b[1;33m(\u001b[0m\u001b[1;34m\"%O\"\u001b[0m\u001b[1;33m%\u001b[0m\u001b[1;36m10\u001b[0m\u001b[1;33m)\u001b[0m\u001b[1;33m\u001b[0m\u001b[0m\n\u001b[0m",
      "\u001b[0;31mValueError\u001b[0m: unsupported format character 'O' (0x4f) at index 1"
     ]
    }
   ],
   "source": [
    "#八进制和十六进制\n",
    "print(\"%x\"%10)\n",
    "print(\"%X\"%10)\n",
    "print(\"%o\"%10)\n",
    "print(\"%O\"%10) #不能使用大写"
   ]
  },
  {
   "cell_type": "markdown",
   "metadata": {},
   "source": [
    "### 变量"
   ]
  },
  {
   "cell_type": "markdown",
   "metadata": {},
   "source": [
    "python内置变量有：\n",
    "- 数值\n",
    "- 字符串\n",
    "- 元组\n",
    "- 列表\n",
    "- 字典"
   ]
  },
  {
   "cell_type": "markdown",
   "metadata": {},
   "source": [
    "##### 元组"
   ]
  },
  {
   "cell_type": "code",
   "execution_count": 120,
   "metadata": {
    "collapsed": false
   },
   "outputs": [
    {
     "name": "stdout",
     "output_type": "stream",
     "text": [
      "('11', (11, '11'), ['11', [1]], {'aa': 'bb'})\n",
      "hello,world\n",
      "<type 'str'>\n",
      "<type 'tuple'>\n"
     ]
    }
   ],
   "source": [
    "#元组是一种不可更改的数据类型\n",
    "a = () #创建空元组\n",
    "\n",
    "a = (\"11\",(11,\"11\"),[\"11\",[1]],{\"aa\":\"bb\"}) #元组中可以包括所有类型\n",
    "print(a)\n",
    "\n",
    "b = (\"hello\",\"world\")\n",
    "print(\"%s,%s\"%b)\n",
    "\n",
    "#当元组只有一个元素的时候，要在后面加逗号，不然会当成去掉括号后的类型\n",
    "c = (\"aa\")\n",
    "print(type(c))\n",
    "\n",
    "c = (\"aa\",)\n",
    "print(type(c))"
   ]
  },
  {
   "cell_type": "code",
   "execution_count": 126,
   "metadata": {
    "collapsed": false
   },
   "outputs": [
    {
     "name": "stdout",
     "output_type": "stream",
     "text": [
      "11\n",
      "[1]\n",
      "bb\n",
      "('11',)\n",
      "('11', (11, '11'))\n",
      "('11', (11, '11'), ['11', [1]], {'aa': 'bb'})\n",
      "{'aa': 'bb'}\n",
      "('11', (11, '11'))\n",
      "('11', (11, '11'), ['11', [1]], {'aa': 'bb'})\n"
     ]
    }
   ],
   "source": [
    "#对元组进行操作\n",
    "\n",
    "#读取元组\n",
    "print(a[0])\n",
    "print(a[2][1])\n",
    "print(a[3][\"aa\"])\n",
    "print(a[0:1])\n",
    "print(a[0:2])\n",
    "print(a[0:])\n",
    "print(a[-1])\n",
    "print(a[:2])\n",
    "print(a[:])"
   ]
  },
  {
   "cell_type": "code",
   "execution_count": 107,
   "metadata": {
    "collapsed": false
   },
   "outputs": [
    {
     "name": "stdout",
     "output_type": "stream",
     "text": [
      "(1, 2, 2, 3)\n"
     ]
    }
   ],
   "source": [
    "\n",
    "#元组相加\n",
    "a = (1,2)\n",
    "b = (2,3)\n",
    "c = a+b\n",
    "print(c)"
   ]
  },
  {
   "cell_type": "code",
   "execution_count": 112,
   "metadata": {
    "collapsed": false
   },
   "outputs": [
    {
     "name": "stdout",
     "output_type": "stream",
     "text": [
      "(1, 2)\n"
     ]
    },
    {
     "ename": "NameError",
     "evalue": "name 'a' is not defined",
     "output_type": "error",
     "traceback": [
      "\u001b[0;31m---------------------------------------------------------------------------\u001b[0m",
      "\u001b[0;31mNameError\u001b[0m                                 Traceback (most recent call last)",
      "\u001b[0;32m<ipython-input-112-43ccfd1ea1da>\u001b[0m in \u001b[0;36m<module>\u001b[0;34m()\u001b[0m\n\u001b[1;32m      3\u001b[0m \u001b[1;32mprint\u001b[0m\u001b[1;33m(\u001b[0m\u001b[0ma\u001b[0m\u001b[1;33m)\u001b[0m\u001b[1;33m\u001b[0m\u001b[0m\n\u001b[1;32m      4\u001b[0m \u001b[1;32mdel\u001b[0m \u001b[0ma\u001b[0m\u001b[1;33m\u001b[0m\u001b[0m\n\u001b[0;32m----> 5\u001b[0;31m \u001b[1;32mprint\u001b[0m\u001b[1;33m(\u001b[0m\u001b[0ma\u001b[0m\u001b[1;33m)\u001b[0m\u001b[1;33m\u001b[0m\u001b[0m\n\u001b[0m",
      "\u001b[0;31mNameError\u001b[0m: name 'a' is not defined"
     ]
    }
   ],
   "source": [
    "#删除元组\n",
    "a = (1,2)\n",
    "print(a)\n",
    "del a\n",
    "print(a)"
   ]
  },
  {
   "cell_type": "code",
   "execution_count": 116,
   "metadata": {
    "collapsed": false
   },
   "outputs": [
    {
     "name": "stdout",
     "output_type": "stream",
     "text": [
      "(1, 2, 1, 2, 1, 2)\n",
      "2\n",
      "False\n",
      "True\n"
     ]
    }
   ],
   "source": [
    "#元组运算符\n",
    "a = (1,2)\n",
    "print(a*3)\n",
    "print(len(a))\n",
    "print(\"1\" in a)\n",
    "print(1 in a )"
   ]
  },
  {
   "cell_type": "code",
   "execution_count": 176,
   "metadata": {
    "collapsed": false
   },
   "outputs": [
    {
     "name": "stdout",
     "output_type": "stream",
     "text": [
      "('a', 'a', 'a', 's', 'd', 'f')\n",
      "(1, 2, 3, [1, 2])\n",
      "('a', 2)\n",
      " \n",
      "-1\n",
      "0\n",
      " \n",
      "2\n",
      "(1, 2)\n",
      "(1, 2)\n",
      "(1, 2)\n",
      "zz\n",
      "(1, 2)\n",
      "1\n",
      "2\n",
      "[1]\n",
      "a\n",
      "a\n",
      "(2, 2)\n",
      "(2, 2)\n"
     ]
    }
   ],
   "source": [
    "#一些操作tuple的内置函数\n",
    "\n",
    "#元组转换\n",
    "print(tuple(\"aaasdf\"))\n",
    "print(tuple([1,2,3,[1,2]]))\n",
    "print(tuple({\"a\":2,2:3}))\n",
    "print(\" \")\n",
    "\n",
    "\n",
    "print(cmp((1,2),(2,3)))\n",
    "print(cmp((1,2),(1,2)))\n",
    "print(\" \")\n",
    "\n",
    "\n",
    "#元组(item>2) >字符>列表>字典>数值\n",
    "print(max(1,2))\n",
    "print(max(1,(1,2)))\n",
    "print(max(1,(1,2),\"zzzz\"))\n",
    "print(max(1,(1,2),\"zzzz\",{1:(1,2)}))\n",
    "print(max(1,\"zz\",{1:2},[1,2]))\n",
    "print(max(1,2,{1:2,3:3},\"zzzz\",(1,2),\"aa\"))\n",
    "\n",
    "\n",
    "print(min(1,[2],(1)))\n",
    "\n",
    "\n",
    "#比较元组内的元素\n",
    "print(max((1,2)))\n",
    "print(max((1,2,[1])))\n",
    "print(max((1,2,[1],\"a\")))\n",
    "print(max((1,2,[1],\"a\",(2))))\n",
    "print(max((1,2,[1,2,2,2],\"a\",(2,2))))\n",
    "print(max((1,2,[1,2,2,2],\"a\",(2,2),{1:(2,2)})))"
   ]
  },
  {
   "cell_type": "code",
   "execution_count": null,
   "metadata": {
    "collapsed": true
   },
   "outputs": [],
   "source": []
  }
 ],
 "metadata": {
  "anaconda-cloud": {},
  "kernelspec": {
   "display_name": "Python [conda root]",
   "language": "python",
   "name": "conda-root-py"
  },
  "language_info": {
   "codemirror_mode": {
    "name": "ipython",
    "version": 2
   },
   "file_extension": ".py",
   "mimetype": "text/x-python",
   "name": "python",
   "nbconvert_exporter": "python",
   "pygments_lexer": "ipython2",
   "version": "2.7.12"
  }
 },
 "nbformat": 4,
 "nbformat_minor": 1
}
