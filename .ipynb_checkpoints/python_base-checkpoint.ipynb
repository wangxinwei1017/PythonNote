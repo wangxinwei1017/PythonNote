{
 "cells": [
  {
   "cell_type": "markdown",
   "metadata": {},
   "source": [
    "#### 引号和转义字符"
   ]
  },
  {
   "cell_type": "code",
   "execution_count": 20,
   "metadata": {
    "collapsed": false
   },
   "outputs": [
    {
     "name": "stdout",
     "output_type": "stream",
     "text": [
      "hello\n",
      "'hello'\n",
      " \"'print'\" \n",
      "\"print\"\n",
      "\"\"\"print\"\"\"\n"
     ]
    }
   ],
   "source": [
    "#引号互包含\n",
    "print('hello')\n",
    "print(\"'hello'\")\n",
    "print(\"\"\" \"'print'\" \"\"\")\n",
    "print('\"print\"')\n",
    "print('\"\"\"print\"\"\"')"
   ]
  },
  {
   "cell_type": "code",
   "execution_count": 21,
   "metadata": {
    "collapsed": false
   },
   "outputs": [
    {
     "name": "stdout",
     "output_type": "stream",
     "text": [
      " \"\"\" hello \n",
      "'dont't\n"
     ]
    }
   ],
   "source": [
    "print(' \"\"\" '\"\"\"hello\"\"\"' ')\n",
    "print('\\'dont\\'t')"
   ]
  },
  {
   "cell_type": "code",
   "execution_count": 22,
   "metadata": {
    "collapsed": false
   },
   "outputs": [
    {
     "name": "stdout",
     "output_type": "stream",
     "text": [
      "hello       \n",
      "1\n",
      "2\n",
      "3\n"
     ]
    }
   ],
   "source": [
    "#\"\"\"可以用来输出多行文本\"\"\"\n",
    "print('hello \\\n",
    "      ')\n",
    "\n",
    "print(\"\"\"1\n",
    "2\n",
    "3\"\"\")"
   ]
  },
  {
   "cell_type": "code",
   "execution_count": 24,
   "metadata": {
    "collapsed": false
   },
   "outputs": [
    {
     "name": "stdout",
     "output_type": "stream",
     "text": [
      "('hello', 'world')\n"
     ]
    }
   ],
   "source": [
    "#print可以输出连接字符,notebook和实际输出不同，cpython编译器输出hello world\n",
    "print(\"hello\",\"world\") "
   ]
  },
  {
   "cell_type": "code",
   "execution_count": 50,
   "metadata": {
    "collapsed": false
   },
   "outputs": [
    {
     "name": "stdout",
     "output_type": "stream",
     "text": [
      "join is boy\n",
      "join %sa\n",
      "join \\%sa\n"
     ]
    }
   ],
   "source": [
    "print(\"join %s%s\"%(\"is\",\" boy\")) \n",
    "print(\"join %%s%s\"%(\"a\"))  #如果想输出%s,则可以使用%%s\n",
    "print(\"join \\%%s%s\"%(\"a\")) #转意字符在这里无效"
   ]
  },
  {
   "cell_type": "code",
   "execution_count": 41,
   "metadata": {
    "collapsed": false
   },
   "outputs": [
    {
     "name": "stdout",
     "output_type": "stream",
     "text": [
      "join   is  boy\n",
      "  1.24\n"
     ]
    }
   ],
   "source": [
    "# %5s表示输出有5个字符，如果没有那么在前面用空格填充\n",
    "# 注意s要用小写\n",
    "print(\"join%5s%5s\"%(\"is\",\"boy\")) \n",
    "print('%6.2f'%1.235)   #长度为6，精确到小数点后两位"
   ]
  },
  {
   "cell_type": "markdown",
   "metadata": {},
   "source": [
    "### python数值\n",
    "\n",
    "\n",
    "\n",
    "python中有三种数值类型\n",
    "- 整形\n",
    "- 浮点型\n",
    "- 虚数"
   ]
  },
  {
   "cell_type": "code",
   "execution_count": 51,
   "metadata": {
    "collapsed": false
   },
   "outputs": [
    {
     "name": "stdout",
     "output_type": "stream",
     "text": [
      "<type 'int'>\n",
      "<type 'float'>\n",
      "<type 'complex'>\n"
     ]
    }
   ],
   "source": [
    "print(type(1))\n",
    "print(type(1.))\n",
    "print(type(1+2j))"
   ]
  },
  {
   "cell_type": "code",
   "execution_count": 145,
   "metadata": {
    "collapsed": false
   },
   "outputs": [
    {
     "data": {
      "text/plain": [
       "inf"
      ]
     },
     "execution_count": 145,
     "metadata": {},
     "output_type": "execute_result"
    }
   ],
   "source": [
    "#当一个数达到python无法处理的时候，会返回inf\n",
    "2e2222222222222222222222222203*111111111111111111111111111111111111111111111111111111111111111111111111111111"
   ]
  },
  {
   "cell_type": "code",
   "execution_count": 64,
   "metadata": {
    "collapsed": false
   },
   "outputs": [
    {
     "name": "stdout",
     "output_type": "stream",
     "text": [
      "1.0\n",
      "2.0\n",
      "0\n",
      "0.4\n",
      "1\n",
      "2\n"
     ]
    }
   ],
   "source": [
    "print(1*1.)\n",
    "print(1+1.)\n",
    "print(2/5)\n",
    "print(2/5.)   #注意python中两个整形除非返回整形，会舍去小数点\n",
    "print(5/3)\n",
    "print(5%3)"
   ]
  },
  {
   "cell_type": "code",
   "execution_count": 71,
   "metadata": {
    "collapsed": false
   },
   "outputs": [
    {
     "name": "stdout",
     "output_type": "stream",
     "text": [
      "1.66666666667\n",
      "2\n",
      "1.67\n",
      "2\n",
      "1.778\n"
     ]
    }
   ],
   "source": [
    "print(5./3)\n",
    "print(\"%.f\"%(5./3))   \n",
    "print(\"%.2f\"%(5./3))  #保留后两位,注意python会在截断时四舍五入\n",
    "print(\"%0.f\"%(5./3))\n",
    "print(\"%0.3f\"%1.7777)  "
   ]
  },
  {
   "cell_type": "code",
   "execution_count": 75,
   "metadata": {
    "collapsed": false
   },
   "outputs": [
    {
     "name": "stdout",
     "output_type": "stream",
     "text": [
      "a\n",
      "A\n",
      "12\n"
     ]
    },
    {
     "ename": "ValueError",
     "evalue": "unsupported format character 'O' (0x4f) at index 1",
     "output_type": "error",
     "traceback": [
      "\u001b[0;31m---------------------------------------------------------------------------\u001b[0m",
      "\u001b[0;31mValueError\u001b[0m                                Traceback (most recent call last)",
      "\u001b[0;32m<ipython-input-75-28f8a9bb0579>\u001b[0m in \u001b[0;36m<module>\u001b[0;34m()\u001b[0m\n\u001b[1;32m      3\u001b[0m \u001b[1;32mprint\u001b[0m\u001b[1;33m(\u001b[0m\u001b[1;34m\"%X\"\u001b[0m\u001b[1;33m%\u001b[0m\u001b[1;36m10\u001b[0m\u001b[1;33m)\u001b[0m\u001b[1;33m\u001b[0m\u001b[0m\n\u001b[1;32m      4\u001b[0m \u001b[1;32mprint\u001b[0m\u001b[1;33m(\u001b[0m\u001b[1;34m\"%o\"\u001b[0m\u001b[1;33m%\u001b[0m\u001b[1;36m10\u001b[0m\u001b[1;33m)\u001b[0m\u001b[1;33m\u001b[0m\u001b[0m\n\u001b[0;32m----> 5\u001b[0;31m \u001b[1;32mprint\u001b[0m\u001b[1;33m(\u001b[0m\u001b[1;34m\"%O\"\u001b[0m\u001b[1;33m%\u001b[0m\u001b[1;36m10\u001b[0m\u001b[1;33m)\u001b[0m\u001b[1;33m\u001b[0m\u001b[0m\n\u001b[0m",
      "\u001b[0;31mValueError\u001b[0m: unsupported format character 'O' (0x4f) at index 1"
     ]
    }
   ],
   "source": [
    "#八进制和十六进制\n",
    "print(\"%x\"%10)\n",
    "print(\"%X\"%10)\n",
    "print(\"%o\"%10)\n",
    "print(\"%O\"%10) #不能使用大写"
   ]
  },
  {
   "cell_type": "markdown",
   "metadata": {},
   "source": [
    "### 变量"
   ]
  },
  {
   "cell_type": "markdown",
   "metadata": {},
   "source": [
    "python内置变量有：\n",
    "- 数值\n",
    "- 字符串\n",
    "- 元组\n",
    "- 列表\n",
    "- 字典\n",
    "- 集合"
   ]
  },
  {
   "cell_type": "markdown",
   "metadata": {},
   "source": [
    "#### 元组"
   ]
  },
  {
   "cell_type": "code",
   "execution_count": 49,
   "metadata": {
    "collapsed": false
   },
   "outputs": [
    {
     "name": "stdout",
     "output_type": "stream",
     "text": [
      "('11', (11, '11'), ['11', [1]], {'aa': 'bb'}, set([1, 2, 3]))\n",
      "hello,world\n",
      "<type 'str'>\n",
      "<type 'tuple'>\n"
     ]
    }
   ],
   "source": [
    "#元组是一种不可更改的数据类型\n",
    "a = () #创建空元组\n",
    "\n",
    "a = (\"11\",(11,\"11\"),[\"11\",[1]],{\"aa\":\"bb\"},set([1,2,3])) #元组中可以存放各种类型\n",
    "print(a)\n",
    "\n",
    "b = (\"hello\",\"world\")\n",
    "print(\"%s,%s\"%b)\n",
    "\n",
    "#当元组只有一个元素的时候，要在后面加逗号，不然会当成去掉括号后的类型\n",
    "c = (\"aa\")\n",
    "print(type(c))\n",
    "\n",
    "c = (\"aa\",)\n",
    "print(type(c))"
   ]
  },
  {
   "cell_type": "code",
   "execution_count": 126,
   "metadata": {
    "collapsed": false
   },
   "outputs": [
    {
     "name": "stdout",
     "output_type": "stream",
     "text": [
      "11\n",
      "[1]\n",
      "bb\n",
      "('11',)\n",
      "('11', (11, '11'))\n",
      "('11', (11, '11'), ['11', [1]], {'aa': 'bb'})\n",
      "{'aa': 'bb'}\n",
      "('11', (11, '11'))\n",
      "('11', (11, '11'), ['11', [1]], {'aa': 'bb'})\n"
     ]
    }
   ],
   "source": [
    "#对元组进行操作\n",
    "\n",
    "#读取元组\n",
    "print(a[0])\n",
    "print(a[2][1])\n",
    "print(a[3][\"aa\"])\n",
    "print(a[0:1])\n",
    "print(a[0:2])\n",
    "print(a[0:])\n",
    "print(a[-1])\n",
    "print(a[:2])\n",
    "print(a[:])"
   ]
  },
  {
   "cell_type": "code",
   "execution_count": 107,
   "metadata": {
    "collapsed": false
   },
   "outputs": [
    {
     "name": "stdout",
     "output_type": "stream",
     "text": [
      "(1, 2, 2, 3)\n"
     ]
    }
   ],
   "source": [
    "\n",
    "#元组相加\n",
    "a = (1,2)\n",
    "b = (2,3)\n",
    "c = a+b\n",
    "print(c)"
   ]
  },
  {
   "cell_type": "code",
   "execution_count": 112,
   "metadata": {
    "collapsed": false
   },
   "outputs": [
    {
     "name": "stdout",
     "output_type": "stream",
     "text": [
      "(1, 2)\n"
     ]
    },
    {
     "ename": "NameError",
     "evalue": "name 'a' is not defined",
     "output_type": "error",
     "traceback": [
      "\u001b[0;31m---------------------------------------------------------------------------\u001b[0m",
      "\u001b[0;31mNameError\u001b[0m                                 Traceback (most recent call last)",
      "\u001b[0;32m<ipython-input-112-43ccfd1ea1da>\u001b[0m in \u001b[0;36m<module>\u001b[0;34m()\u001b[0m\n\u001b[1;32m      3\u001b[0m \u001b[1;32mprint\u001b[0m\u001b[1;33m(\u001b[0m\u001b[0ma\u001b[0m\u001b[1;33m)\u001b[0m\u001b[1;33m\u001b[0m\u001b[0m\n\u001b[1;32m      4\u001b[0m \u001b[1;32mdel\u001b[0m \u001b[0ma\u001b[0m\u001b[1;33m\u001b[0m\u001b[0m\n\u001b[0;32m----> 5\u001b[0;31m \u001b[1;32mprint\u001b[0m\u001b[1;33m(\u001b[0m\u001b[0ma\u001b[0m\u001b[1;33m)\u001b[0m\u001b[1;33m\u001b[0m\u001b[0m\n\u001b[0m",
      "\u001b[0;31mNameError\u001b[0m: name 'a' is not defined"
     ]
    }
   ],
   "source": [
    "#删除元组\n",
    "a = (1,2)\n",
    "print(a)\n",
    "del a\n",
    "print(a)"
   ]
  },
  {
   "cell_type": "code",
   "execution_count": 116,
   "metadata": {
    "collapsed": false
   },
   "outputs": [
    {
     "name": "stdout",
     "output_type": "stream",
     "text": [
      "(1, 2, 1, 2, 1, 2)\n",
      "2\n",
      "False\n",
      "True\n"
     ]
    }
   ],
   "source": [
    "#元组运算符\n",
    "a = (1,2)\n",
    "print(a*3)\n",
    "print(len(a))\n",
    "print(\"1\" in a)\n",
    "print(1 in a )"
   ]
  },
  {
   "cell_type": "code",
   "execution_count": 176,
   "metadata": {
    "collapsed": false
   },
   "outputs": [
    {
     "name": "stdout",
     "output_type": "stream",
     "text": [
      "('a', 'a', 'a', 's', 'd', 'f')\n",
      "(1, 2, 3, [1, 2])\n",
      "('a', 2)\n",
      " \n",
      "-1\n",
      "0\n",
      " \n",
      "2\n",
      "(1, 2)\n",
      "(1, 2)\n",
      "(1, 2)\n",
      "zz\n",
      "(1, 2)\n",
      "1\n",
      "2\n",
      "[1]\n",
      "a\n",
      "a\n",
      "(2, 2)\n",
      "(2, 2)\n"
     ]
    }
   ],
   "source": [
    "#一些操作tuple的内置函数\n",
    "\n",
    "#元组转换\n",
    "print(tuple(\"aaasdf\"))\n",
    "print(tuple([1,2,3,[1,2]]))\n",
    "print(tuple({\"a\":2,2:3}))\n",
    "print(\" \")\n",
    "\n",
    "\n",
    "print(cmp((1,2),(2,3)))\n",
    "print(cmp((1,2),(1,2)))\n",
    "print(\" \")\n",
    "\n",
    "\n",
    "#元组(item>2) >字符>列表>字典>数值\n",
    "print(max(1,2))\n",
    "print(max(1,(1,2)))\n",
    "print(max(1,(1,2),\"zzzz\"))\n",
    "print(max(1,(1,2),\"zzzz\",{1:(1,2)}))\n",
    "print(max(1,\"zz\",{1:2},[1,2]))\n",
    "print(max(1,2,{1:2,3:3},\"zzzz\",(1,2),\"aa\"))\n",
    "\n",
    "\n",
    "print(min(1,[2],(1)))\n",
    "\n",
    "\n",
    "#比较元组内的元素\n",
    "print(max((1,2)))\n",
    "print(max((1,2,[1])))\n",
    "print(max((1,2,[1],\"a\")))\n",
    "print(max((1,2,[1],\"a\",(2))))\n",
    "print(max((1,2,[1,2,2,2],\"a\",(2,2))))\n",
    "print(max((1,2,[1,2,2,2],\"a\",(2,2),{1:(2,2)})))"
   ]
  },
  {
   "cell_type": "markdown",
   "metadata": {
    "collapsed": true
   },
   "source": [
    "#### 列表"
   ]
  },
  {
   "cell_type": "code",
   "execution_count": 26,
   "metadata": {
    "collapsed": false
   },
   "outputs": [
    {
     "name": "stdout",
     "output_type": "stream",
     "text": [
      "[1, '2', [3, 4], (5, 6), {9: 10, 7: 8}, <class __main__.a at 0x000000000450F948>, set([1, 2, 3])]\n"
     ]
    }
   ],
   "source": [
    "#列表可以存放各种内置数据类型,并且可以增删查改\n",
    "class a:\n",
    "    def getName(self):\n",
    "        print(\"i'm a\")\n",
    "b = [1,\"2\",[3,4],(5,6),{7:8,9:10},a,set([1,2,3])]\n",
    "print(b)"
   ]
  },
  {
   "cell_type": "code",
   "execution_count": 37,
   "metadata": {
    "collapsed": false
   },
   "outputs": [
    {
     "name": "stdout",
     "output_type": "stream",
     "text": [
      "[1, 2, 3, 4]\n",
      "[1, 2, 3, 4, 5]\n",
      "[1, 2, 3, 4]\n",
      "[1, 5, 2, 3, 4]\n",
      "[1, 2, 3, 4]\n",
      "1\n",
      "[4, 3, 2, 1]\n",
      "[1, 2, 3, 4]\n",
      "[4, 3, 2, 1]\n",
      "[1, 2, 3, 4]\n"
     ]
    }
   ],
   "source": [
    "#更改列表\n",
    "\n",
    "a = [1,2,3,4]\n",
    "print(a)\n",
    "\n",
    "a.append(5)       #在末尾增加item\n",
    "print(a)\n",
    "\n",
    "a.pop()           #删除末尾item\n",
    "print(a) \n",
    "\n",
    "a.insert(1,5)     #在位置1插入item\n",
    "print(a)\n",
    "\n",
    "a.pop(1)          #弹出位置1的item\n",
    "print(a)\n",
    "\n",
    "print(a.index(2)) #找到某元素的位置\n",
    "\n",
    "a.reverse()       #翻转元素\n",
    "print(a) \n",
    "\n",
    "a.sort()          #排序\n",
    "print(a)\n",
    "\n",
    "a.reverse()\n",
    "b = sorted(a)     #不改变原列表的排序\n",
    "print(a)\n",
    "print(b)"
   ]
  },
  {
   "cell_type": "code",
   "execution_count": 42,
   "metadata": {
    "collapsed": false
   },
   "outputs": [
    {
     "name": "stdout",
     "output_type": "stream",
     "text": [
      "[1, 2, 1, 2, 1, 2]\n",
      "[1, 2, 1, 2]\n",
      "2\n"
     ]
    }
   ],
   "source": [
    "a = [1,2]\n",
    "print(a*3)\n",
    "print(a+a)\n",
    "print(a[-1])"
   ]
  },
  {
   "cell_type": "code",
   "execution_count": 45,
   "metadata": {
    "collapsed": false
   },
   "outputs": [
    {
     "name": "stdout",
     "output_type": "stream",
     "text": [
      "2\n",
      "0\n"
     ]
    }
   ],
   "source": [
    "a = [1,1,2,3,4,5]   #获取某元素在列表中出现的频率\n",
    "print(a.count(1))\n",
    "print(a.count(0))"
   ]
  },
  {
   "cell_type": "markdown",
   "metadata": {},
   "source": [
    "#### 字典"
   ]
  },
  {
   "cell_type": "code",
   "execution_count": 114,
   "metadata": {
    "collapsed": false
   },
   "outputs": [
    {
     "name": "stdout",
     "output_type": "stream",
     "text": [
      "{4: (1, 1), 5: {'1': 1}, 6: set([1, 2, 3]), '1': 1, '3': [1, 1], '2': '1'}\n",
      "{(1, 2, 3): 3}\n"
     ]
    },
    {
     "ename": "TypeError",
     "evalue": "unhashable type: 'dict'",
     "output_type": "error",
     "traceback": [
      "\u001b[0;31m---------------------------------------------------------------------------\u001b[0m",
      "\u001b[0;31mTypeError\u001b[0m                                 Traceback (most recent call last)",
      "\u001b[0;32m<ipython-input-114-4ae75d644f10>\u001b[0m in \u001b[0;36m<module>\u001b[0;34m()\u001b[0m\n\u001b[1;32m      7\u001b[0m \u001b[1;32mprint\u001b[0m\u001b[1;33m(\u001b[0m\u001b[0ma\u001b[0m\u001b[1;33m)\u001b[0m\u001b[1;33m\u001b[0m\u001b[0m\n\u001b[1;32m      8\u001b[0m \u001b[1;33m\u001b[0m\u001b[0m\n\u001b[0;32m----> 9\u001b[0;31m \u001b[0ma\u001b[0m \u001b[1;33m=\u001b[0m \u001b[1;33m{\u001b[0m\u001b[1;33m{\u001b[0m\u001b[1;36m1\u001b[0m\u001b[1;33m:\u001b[0m\u001b[1;36m2\u001b[0m\u001b[1;33m}\u001b[0m\u001b[1;33m:\u001b[0m\u001b[1;36m2\u001b[0m\u001b[1;33m}\u001b[0m   \u001b[1;31m#wrong\u001b[0m\u001b[1;33m\u001b[0m\u001b[0m\n\u001b[0m\u001b[1;32m     10\u001b[0m \u001b[0ma\u001b[0m \u001b[1;33m=\u001b[0m \u001b[1;33m{\u001b[0m\u001b[1;33m[\u001b[0m\u001b[1;36m1\u001b[0m\u001b[1;33m]\u001b[0m\u001b[1;33m:\u001b[0m\u001b[1;36m1\u001b[0m\u001b[1;33m}\u001b[0m     \u001b[1;31m#wrong\u001b[0m\u001b[1;33m\u001b[0m\u001b[0m\n",
      "\u001b[0;31mTypeError\u001b[0m: unhashable type: 'dict'"
     ]
    }
   ],
   "source": [
    "#字典可以存放各种内置元素\n",
    "a = {\"1\":1,\"2\":\"1\",\"3\":[1,1],4:(1,1),5:{\"1\":1},6:set([1,2,3])}\n",
    "print(a)\n",
    "\n",
    "#键值不能为列表和字典,但是可以为元组\n",
    "a = {(1,2,3):3}\n",
    "print(a)\n",
    "\n",
    "a = {{1:2}:2}   #wrong\n",
    "a = {[1]:1}     #wrong"
   ]
  },
  {
   "cell_type": "code",
   "execution_count": 115,
   "metadata": {
    "collapsed": false
   },
   "outputs": [
    {
     "ename": "KeyError",
     "evalue": "'1'",
     "output_type": "error",
     "traceback": [
      "\u001b[0;31m---------------------------------------------------------------------------\u001b[0m",
      "\u001b[0;31mKeyError\u001b[0m                                  Traceback (most recent call last)",
      "\u001b[0;32m<ipython-input-115-c7555a44c4c9>\u001b[0m in \u001b[0;36m<module>\u001b[0;34m()\u001b[0m\n\u001b[1;32m      1\u001b[0m \u001b[1;31m#读取字典\u001b[0m\u001b[1;33m\u001b[0m\u001b[1;33m\u001b[0m\u001b[0m\n\u001b[0;32m----> 2\u001b[0;31m \u001b[1;32mprint\u001b[0m\u001b[1;33m(\u001b[0m\u001b[0ma\u001b[0m\u001b[1;33m[\u001b[0m\u001b[1;34m'1'\u001b[0m\u001b[1;33m]\u001b[0m\u001b[1;33m)\u001b[0m\u001b[1;33m\u001b[0m\u001b[0m\n\u001b[0m\u001b[1;32m      3\u001b[0m \u001b[1;32mprint\u001b[0m\u001b[1;33m(\u001b[0m\u001b[0ma\u001b[0m\u001b[1;33m[\u001b[0m\u001b[1;36m4\u001b[0m\u001b[1;33m]\u001b[0m\u001b[1;33m)\u001b[0m\u001b[1;33m\u001b[0m\u001b[0m\n\u001b[1;32m      4\u001b[0m \u001b[1;33m\u001b[0m\u001b[0m\n\u001b[1;32m      5\u001b[0m \u001b[1;32mprint\u001b[0m\u001b[1;33m(\u001b[0m\u001b[0ma\u001b[0m\u001b[1;33m.\u001b[0m\u001b[0mget\u001b[0m\u001b[1;33m(\u001b[0m\u001b[1;36m4\u001b[0m\u001b[1;33m)\u001b[0m\u001b[1;33m)\u001b[0m   \u001b[1;31m#返回键值4对应的值\u001b[0m\u001b[1;33m\u001b[0m\u001b[0m\n",
      "\u001b[0;31mKeyError\u001b[0m: '1'"
     ]
    }
   ],
   "source": [
    "#读取字典\n",
    "print(a['1'])\n",
    "print(a[4])\n",
    "\n",
    "print(a.get(4))   #返回键值4对应的值\n",
    "\n",
    "print(a.keys())   #返回所有键值\n",
    "\n",
    "print(a.values()) #返回所有键值对应的元素\n",
    "\n",
    "print(a.items())  #返回元祖列表\n",
    "\n",
    "b = a.copy()      #浅复制,复制引用而不是内存\n",
    "print(b)\n",
    "\n",
    "print(a.has_key(10))  #判读是否有10这个键值\n",
    "\n",
    "b = {10:11}         #将a中的item更新到b中\n",
    "b.update(a)  \n",
    "print(b)\n",
    "\n"
   ]
  },
  {
   "cell_type": "code",
   "execution_count": 95,
   "metadata": {
    "collapsed": false
   },
   "outputs": [
    {
     "name": "stdout",
     "output_type": "stream",
     "text": [
      "{2: 2, 3: 3}\n",
      "{}\n"
     ]
    },
    {
     "ename": "NameError",
     "evalue": "name 'aa' is not defined",
     "output_type": "error",
     "traceback": [
      "\u001b[0;31m---------------------------------------------------------------------------\u001b[0m",
      "\u001b[0;31mNameError\u001b[0m                                 Traceback (most recent call last)",
      "\u001b[0;32m<ipython-input-95-8017998b9447>\u001b[0m in \u001b[0;36m<module>\u001b[0;34m()\u001b[0m\n\u001b[1;32m      9\u001b[0m \u001b[0maa\u001b[0m \u001b[1;33m=\u001b[0m \u001b[1;33m{\u001b[0m\u001b[1;36m1\u001b[0m\u001b[1;33m:\u001b[0m\u001b[1;36m1\u001b[0m\u001b[1;33m,\u001b[0m\u001b[1;36m2\u001b[0m\u001b[1;33m:\u001b[0m\u001b[1;36m2\u001b[0m\u001b[1;33m,\u001b[0m\u001b[1;36m3\u001b[0m\u001b[1;33m:\u001b[0m\u001b[1;36m3\u001b[0m\u001b[1;33m}\u001b[0m\u001b[1;33m\u001b[0m\u001b[0m\n\u001b[1;32m     10\u001b[0m \u001b[1;32mdel\u001b[0m \u001b[0maa\u001b[0m                    \u001b[1;31m#删除，将aa变量删除，所以显示aa没有定义\u001b[0m\u001b[1;33m\u001b[0m\u001b[0m\n\u001b[0;32m---> 11\u001b[0;31m \u001b[1;32mprint\u001b[0m\u001b[1;33m(\u001b[0m\u001b[0maa\u001b[0m\u001b[1;33m)\u001b[0m\u001b[1;33m\u001b[0m\u001b[0m\n\u001b[0m",
      "\u001b[0;31mNameError\u001b[0m: name 'aa' is not defined"
     ]
    }
   ],
   "source": [
    "#删除字典\n",
    "aa = {1:1,2:2,3:3}\n",
    "del aa[1]\n",
    "print(aa)\n",
    "\n",
    "aa.clear()                #清空，留下一个空字典\n",
    "print(aa)\n",
    "\n",
    "aa = {1:1,2:2,3:3}      \n",
    "del aa                    #删除，将aa变量删除，所以显示aa没有定义\n",
    "print(aa)"
   ]
  },
  {
   "cell_type": "markdown",
   "metadata": {},
   "source": [
    "#### 集合\n",
    "\n",
    "无序排列的可哈希值"
   ]
  },
  {
   "cell_type": "code",
   "execution_count": 137,
   "metadata": {
    "collapsed": false
   },
   "outputs": [
    {
     "name": "stdout",
     "output_type": "stream",
     "text": [
      "set([])\n",
      "set([1, 2, 3, 4])\n",
      "set([1, 2, 3, 4])\n",
      "set([1, 2, 3, 4])\n",
      "set(['a', 'c', 'b'])\n",
      "set([(1, 2), 1, 2, 3, 4])\n"
     ]
    },
    {
     "ename": "TypeError",
     "evalue": "unhashable type: 'list'",
     "output_type": "error",
     "traceback": [
      "\u001b[0;31m---------------------------------------------------------------------------\u001b[0m",
      "\u001b[0;31mTypeError\u001b[0m                                 Traceback (most recent call last)",
      "\u001b[0;32m<ipython-input-137-6ceab0c4cca1>\u001b[0m in \u001b[0;36m<module>\u001b[0;34m()\u001b[0m\n\u001b[1;32m     24\u001b[0m \u001b[1;33m\u001b[0m\u001b[0m\n\u001b[1;32m     25\u001b[0m \u001b[0ma\u001b[0m \u001b[1;33m=\u001b[0m \u001b[1;33m(\u001b[0m\u001b[1;33m[\u001b[0m\u001b[1;36m1\u001b[0m\u001b[1;33m,\u001b[0m\u001b[1;36m1\u001b[0m\u001b[1;33m]\u001b[0m\u001b[1;33m,\u001b[0m\u001b[1;36m1\u001b[0m\u001b[1;33m,\u001b[0m\u001b[1;36m2\u001b[0m\u001b[1;33m,\u001b[0m\u001b[1;36m1\u001b[0m\u001b[1;33m,\u001b[0m\u001b[1;36m3\u001b[0m\u001b[1;33m,\u001b[0m\u001b[1;36m4\u001b[0m\u001b[1;33m)\u001b[0m  \u001b[1;31m#Wrong 列表是不可哈希类型\u001b[0m\u001b[1;33m\u001b[0m\u001b[0m\n\u001b[0;32m---> 26\u001b[0;31m \u001b[0mset_a\u001b[0m \u001b[1;33m=\u001b[0m \u001b[0mset\u001b[0m\u001b[1;33m(\u001b[0m\u001b[0ma\u001b[0m\u001b[1;33m)\u001b[0m\u001b[1;33m\u001b[0m\u001b[0m\n\u001b[0m\u001b[1;32m     27\u001b[0m \u001b[1;32mprint\u001b[0m\u001b[1;33m(\u001b[0m\u001b[0mset_a\u001b[0m\u001b[1;33m)\u001b[0m\u001b[1;33m\u001b[0m\u001b[0m\n",
      "\u001b[0;31mTypeError\u001b[0m: unhashable type: 'list'"
     ]
    }
   ],
   "source": [
    "#创建集合\n",
    "a = set()\n",
    "print(a)\n",
    "\n",
    "a = [1,2,3,4]\n",
    "set_a = set(a)\n",
    "print(set_a)\n",
    "\n",
    "a = (1,2,3,4)\n",
    "set_a = set(a)\n",
    "print(set_a)\n",
    "\n",
    "a = (1,1,2,1,3,4)\n",
    "set_a = set(a)\n",
    "print(set_a)\n",
    "\n",
    "a = set(\"aaabc\")      #自动拆分\n",
    "print(a)\n",
    "\n",
    "\n",
    "a = ((1,2),1,2,1,3,4)  #Right\n",
    "set_a = set(a)\n",
    "print(set_a)\n",
    "\n",
    "a = ([1,1],1,2,1,3,4)  #Wrong 列表是不可哈希类型\n",
    "set_a = set(a)\n",
    "print(set_a)"
   ]
  },
  {
   "cell_type": "code",
   "execution_count": 159,
   "metadata": {
    "collapsed": false
   },
   "outputs": [
    {
     "name": "stdout",
     "output_type": "stream",
     "text": [
      "set([])\n",
      "set(['abc'])\n",
      "set(['a', 'c', 'abc', 'b'])\n",
      "set(['a', 1, 'c', 'abc', 3, 2, 'b'])\n",
      "set(['a', 'c', 'abc', 3, 2, 'b'])\n",
      "a\n"
     ]
    }
   ],
   "source": [
    "#对集合进行操作\n",
    "a = set()\n",
    "print(a)\n",
    "\n",
    "a.add(\"abc\")        #add将添加元素看成整体\n",
    "print(a)\n",
    "\n",
    "a.update(\"abc\")     #update将添加元素拆分\n",
    "print(a)\n",
    "\n",
    "a.update([1,2,3])   #update可以用来添加多个item\n",
    "print(a) \n",
    "\n",
    "a.remove(1)         #删除元素\n",
    "print(a)\n",
    "\n",
    "print(a.pop())      #删除一个元素并返回删除的这个元素\n"
   ]
  },
  {
   "cell_type": "code",
   "execution_count": 172,
   "metadata": {
    "collapsed": false
   },
   "outputs": [
    {
     "name": "stdout",
     "output_type": "stream",
     "text": [
      "set(['a', 'c', 'b', 'd'])\n",
      "set(['a'])\n",
      "set(['c', 'b'])\n",
      "set(['c', 'b', 'd'])\n",
      "False\n"
     ]
    },
    {
     "ename": "TypeError",
     "evalue": "unsupported operand type(s) for +: 'set' and 'set'",
     "output_type": "error",
     "traceback": [
      "\u001b[0;31m---------------------------------------------------------------------------\u001b[0m",
      "\u001b[0;31mTypeError\u001b[0m                                 Traceback (most recent call last)",
      "\u001b[0;32m<ipython-input-172-9bb561f137cc>\u001b[0m in \u001b[0;36m<module>\u001b[0;34m()\u001b[0m\n\u001b[1;32m      7\u001b[0m \u001b[1;32mprint\u001b[0m\u001b[1;33m(\u001b[0m\u001b[0ma\u001b[0m\u001b[1;33m^\u001b[0m\u001b[0mb\u001b[0m\u001b[1;33m)\u001b[0m         \u001b[1;31m#对称插集\u001b[0m\u001b[1;33m\u001b[0m\u001b[0m\n\u001b[1;32m      8\u001b[0m \u001b[1;32mprint\u001b[0m\u001b[1;33m(\u001b[0m\u001b[0ma\u001b[0m \u001b[1;32min\u001b[0m \u001b[0mb\u001b[0m\u001b[1;33m)\u001b[0m      \u001b[1;31m#a是否是b的自己\u001b[0m\u001b[1;33m\u001b[0m\u001b[0m\n\u001b[0;32m----> 9\u001b[0;31m \u001b[1;32mprint\u001b[0m\u001b[1;33m(\u001b[0m\u001b[0ma\u001b[0m\u001b[1;33m+\u001b[0m\u001b[0mb\u001b[0m\u001b[1;33m)\u001b[0m         \u001b[1;31m#wrong，集合中没有定义加号运算符\u001b[0m\u001b[1;33m\u001b[0m\u001b[0m\n\u001b[0m",
      "\u001b[0;31mTypeError\u001b[0m: unsupported operand type(s) for +: 'set' and 'set'"
     ]
    }
   ],
   "source": [
    "#两个集合的关系\n",
    "a = set(\"abc\")\n",
    "b = set(\"ad\")\n",
    "print(a|b)         #并集/合集\n",
    "print(a&b)         #交集\n",
    "print(a-b)         #插集  a中有b中没有\n",
    "print(a^b)         #对称插集\n",
    "print(a in b)      #a是否是b的自己\n",
    "print(a+b)         #wrong，集合中没有定义加号运算符"
   ]
  },
  {
   "cell_type": "code",
   "execution_count": 173,
   "metadata": {
    "collapsed": false
   },
   "outputs": [
    {
     "name": "stdout",
     "output_type": "stream",
     "text": [
      "[1, 2, 3]\n"
     ]
    }
   ],
   "source": [
    "#小技巧，列表去重\n",
    "list_a = [1,1,1,2,2,3]\n",
    "print(list(set(list_a)))"
   ]
  },
  {
   "cell_type": "markdown",
   "metadata": {},
   "source": [
    "#### 字符串"
   ]
  },
  {
   "cell_type": "code",
   "execution_count": 178,
   "metadata": {
    "collapsed": false
   },
   "outputs": [
    {
     "name": "stdout",
     "output_type": "stream",
     "text": [
      "abcde\n"
     ]
    }
   ],
   "source": [
    "a = \"abcdef\"\n",
    "print(a[:-1])"
   ]
  },
  {
   "cell_type": "code",
   "execution_count": 183,
   "metadata": {
    "collapsed": false
   },
   "outputs": [
    {
     "name": "stdout",
     "output_type": "stream",
     "text": [
      "abc\tde\n",
      "abc\\tde\n"
     ]
    }
   ],
   "source": [
    "#转义字符 \\ \n",
    "print(\"abc\\tde\")\n",
    "\n",
    "print(r\"abc\\tde\")  #前面加r或者R保持字符不转移"
   ]
  },
  {
   "cell_type": "code",
   "execution_count": 196,
   "metadata": {
    "collapsed": false
   },
   "outputs": [
    {
     "name": "stdout",
     "output_type": "stream",
     "text": [
      "Abcd\n",
      "ABCD\n"
     ]
    }
   ],
   "source": [
    "#操作字符串\n",
    "a = \"abcd\" \n",
    "print(a.capitalize())         #大写第一个字符\n",
    "print(a.upper())              #大写转换\n",
    "print()"
   ]
  },
  {
   "cell_type": "code",
   "execution_count": null,
   "metadata": {
    "collapsed": true
   },
   "outputs": [],
   "source": []
  }
 ],
 "metadata": {
  "anaconda-cloud": {},
  "kernelspec": {
   "display_name": "Python [conda root]",
   "language": "python",
   "name": "conda-root-py"
  },
  "language_info": {
   "codemirror_mode": {
    "name": "ipython",
    "version": 2
   },
   "file_extension": ".py",
   "mimetype": "text/x-python",
   "name": "python",
   "nbconvert_exporter": "python",
   "pygments_lexer": "ipython2",
   "version": "2.7.12"
  }
 },
 "nbformat": 4,
 "nbformat_minor": 1
}
